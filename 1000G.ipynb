{
 "cells": [
  {
   "cell_type": "markdown",
   "metadata": {},
   "source": [
    "SciDB is a scale-out DBMS designed for scientific use cases, with built-in capabilities for sophisticated mathematical calculations beyond the typical domain of SQL/NoSQL systems. This workbook demonstrates using SciDB's R interface for scalable query and analysis of 1000 Genomes phase 3 genotype data, including simple aggregations such as computing transition/transversion ratios, and more advanced calculations such as principal component analysis and estimating linkage disequilibrium.\n",
    "\n",
    "First, we connect to SciDB and obtain handles to the data arrays. For development/testing on a modest machine, we'll just look at chromosomes 21 and 22 across the 2,504 individuals; but SciDB can scale out on a cluster to handle arbitrarily large datasets."
   ]
  },
  {
   "cell_type": "code",
   "execution_count": null,
   "metadata": {
    "collapsed": true
   },
   "outputs": [],
   "source": [
    "#require(ggplot2)\n",
    "#require(pipeR)\n",
    "#require(scidb)\n",
    "import matplotlib.pyplot as plt\n",
    "from scidbpy import connect\n",
    "\n",
    "#scidbconnect()\n",
    "sdb = connect()"
   ]
  },
  {
   "cell_type": "code",
   "execution_count": 11,
   "metadata": {
    "collapsed": false
   },
   "outputs": [],
   "source": [
    "#SAMPLE <- scidb(\"KG_SAMPLE\")\n",
    "SAMPLE = sdb.wrap_array('KG_SAMPLE')\n",
    "\n",
    "#CHROMOSOME <- scidb(\"KG_CHROMOSOME\")\n",
    "CHROMOSOME = sdb.wrap_array('KG_CHROMOSOME')\n",
    "\n",
    "#VARIANT <- merge(scidb(\"KG_VARIANT\"), subset(CHROMOSOME, \"chromosome='10' or chromosome='21' or chromosome='22'\"))\n",
    "VARIANT = sdb.merge(sdb.wrap_array('KG_VARIANT'), \n",
    "                    sdb.afl.filter(\"KG_CHROMOSOME\", \"chromosome='10' or chromosome='20' or chromosome='21'\"))\n",
    "\n",
    "#VARIANT <- scidbeval(VARIANT)\n",
    "VARIANT.eval()\n",
    "\n",
    "#GENOTYPE <- project(merge(scidb(\"KG_GENOTYPE\"),project(VARIANT,'chromosome')),\n",
    "#                    c(\"allele_1\",\"allele_2\",\"phase\"))\n",
    "GENOTYPE = sdb.afl.project(\n",
    "    sdb.merge(\n",
    "        sdb.wrap_array('KG_GENOTYPE'),\n",
    "        sdb.afl.project(VARIANT, 'chromosome')\n",
    "        ),\n",
    "    'allele_1', 'allele_2', 'phase'\n",
    "    )"
   ]
  },
  {
   "cell_type": "markdown",
   "metadata": {},
   "source": [
    "The `VARIANT` array for chomosomes 21 and 22 has been stored in SciDB's memory (but not the memory of our local R process) by the `scidbeval()` expression above. In contrast, the `GENOTYPE` array is merely a lazy expression, denoting but not materializing the subset of all the genotypes on chromosomes 21 and 22. Because `GENOTYPE` is our biggest array by far, we avoid copying any significant portion of it.\n",
    "\n",
    "Let's take a look at the schema."
   ]
  },
  {
   "cell_type": "code",
   "execution_count": 51,
   "metadata": {
    "collapsed": false
   },
   "outputs": [
    {
     "data": {
      "text/html": [
       "<div style=\"max-height:1000px;max-width:1500px;overflow:auto;\">\n",
       "<table border=\"1\" class=\"dataframe\">\n",
       "  <thead>\n",
       "    <tr style=\"text-align: right;\">\n",
       "      <th></th>\n",
       "      <th></th>\n",
       "      <th></th>\n",
       "      <th></th>\n",
       "      <th>reference</th>\n",
       "      <th>alternate</th>\n",
       "      <th>id</th>\n",
       "      <th>qual</th>\n",
       "      <th>filter</th>\n",
       "      <th>info</th>\n",
       "      <th>ac</th>\n",
       "      <th>af</th>\n",
       "      <th>chromosome</th>\n",
       "    </tr>\n",
       "    <tr>\n",
       "      <th>chromosome_id</th>\n",
       "      <th>start</th>\n",
       "      <th>end</th>\n",
       "      <th>alternate_id</th>\n",
       "      <th></th>\n",
       "      <th></th>\n",
       "      <th></th>\n",
       "      <th></th>\n",
       "      <th></th>\n",
       "      <th></th>\n",
       "      <th></th>\n",
       "      <th></th>\n",
       "      <th></th>\n",
       "    </tr>\n",
       "  </thead>\n",
       "  <tbody>\n",
       "    <tr>\n",
       "      <th rowspan=\"5\" valign=\"top\">9</th>\n",
       "      <th>60494</th>\n",
       "      <th>60494</th>\n",
       "      <th>1</th>\n",
       "      <td> A</td>\n",
       "      <td> G</td>\n",
       "      <td>           .</td>\n",
       "      <td> 100</td>\n",
       "      <td> PASS</td>\n",
       "      <td> AC=27;AF=0.00539137;AN=5008;NS=2504</td>\n",
       "      <td> 27</td>\n",
       "      <td> 0.005391</td>\n",
       "      <td> 10</td>\n",
       "    </tr>\n",
       "    <tr>\n",
       "      <th>60515</th>\n",
       "      <th>60515</th>\n",
       "      <th>1</th>\n",
       "      <td> C</td>\n",
       "      <td> T</td>\n",
       "      <td>           .</td>\n",
       "      <td> 100</td>\n",
       "      <td> PASS</td>\n",
       "      <td> AC=1;AF=0.000199681;AN=5008;NS=2504</td>\n",
       "      <td>  1</td>\n",
       "      <td> 0.000200</td>\n",
       "      <td> 10</td>\n",
       "    </tr>\n",
       "    <tr>\n",
       "      <th>60523</th>\n",
       "      <th>60523</th>\n",
       "      <th>1</th>\n",
       "      <td> T</td>\n",
       "      <td> G</td>\n",
       "      <td> rs148087467</td>\n",
       "      <td> 100</td>\n",
       "      <td> PASS</td>\n",
       "      <td>  AC=91;AF=0.0181709;AN=5008;NS=2504</td>\n",
       "      <td> 91</td>\n",
       "      <td> 0.018171</td>\n",
       "      <td> 10</td>\n",
       "    </tr>\n",
       "    <tr>\n",
       "      <th>60607</th>\n",
       "      <th>60607</th>\n",
       "      <th>1</th>\n",
       "      <td> G</td>\n",
       "      <td> A</td>\n",
       "      <td>           .</td>\n",
       "      <td> 100</td>\n",
       "      <td> PASS</td>\n",
       "      <td> AC=1;AF=0.000199681;AN=5008;NS=2504</td>\n",
       "      <td>  1</td>\n",
       "      <td> 0.000200</td>\n",
       "      <td> 10</td>\n",
       "    </tr>\n",
       "    <tr>\n",
       "      <th>60684</th>\n",
       "      <th>60684</th>\n",
       "      <th>1</th>\n",
       "      <td> A</td>\n",
       "      <td> C</td>\n",
       "      <td>           .</td>\n",
       "      <td> 100</td>\n",
       "      <td> PASS</td>\n",
       "      <td>  AC=62;AF=0.0123802;AN=5008;NS=2504</td>\n",
       "      <td> 62</td>\n",
       "      <td> 0.012380</td>\n",
       "      <td> 10</td>\n",
       "    </tr>\n",
       "  </tbody>\n",
       "</table>\n",
       "<p>5 rows × 9 columns</p>\n",
       "</div>"
      ],
      "text/plain": [
       "                                       reference alternate           id  qual  \\\n",
       "chromosome_id start end   alternate_id                                          \n",
       "9             60494 60494 1                    A         G            .   100   \n",
       "              60515 60515 1                    C         T            .   100   \n",
       "              60523 60523 1                    T         G  rs148087467   100   \n",
       "              60607 60607 1                    G         A            .   100   \n",
       "              60684 60684 1                    A         C            .   100   \n",
       "\n",
       "                                       filter  \\\n",
       "chromosome_id start end   alternate_id          \n",
       "9             60494 60494 1              PASS   \n",
       "              60515 60515 1              PASS   \n",
       "              60523 60523 1              PASS   \n",
       "              60607 60607 1              PASS   \n",
       "              60684 60684 1              PASS   \n",
       "\n",
       "                                                                       info  \\\n",
       "chromosome_id start end   alternate_id                                        \n",
       "9             60494 60494 1             AC=27;AF=0.00539137;AN=5008;NS=2504   \n",
       "              60515 60515 1             AC=1;AF=0.000199681;AN=5008;NS=2504   \n",
       "              60523 60523 1              AC=91;AF=0.0181709;AN=5008;NS=2504   \n",
       "              60607 60607 1             AC=1;AF=0.000199681;AN=5008;NS=2504   \n",
       "              60684 60684 1              AC=62;AF=0.0123802;AN=5008;NS=2504   \n",
       "\n",
       "                                        ac        af chromosome  \n",
       "chromosome_id start end   alternate_id                           \n",
       "9             60494 60494 1             27  0.005391         10  \n",
       "              60515 60515 1              1  0.000200         10  \n",
       "              60523 60523 1             91  0.018171         10  \n",
       "              60607 60607 1              1  0.000200         10  \n",
       "              60684 60684 1             62  0.012380         10  \n",
       "\n",
       "[5 rows x 9 columns]"
      ]
     },
     "execution_count": 51,
     "metadata": {},
     "output_type": "execute_result"
    }
   ],
   "source": [
    "#head(VARIANT)\n",
    "VARIANT.todataframe().head()"
   ]
  },
  {
   "cell_type": "code",
   "execution_count": 53,
   "metadata": {
    "collapsed": false
   },
   "outputs": [
    {
     "data": {
      "text/plain": [
       "u'<reference:string,alternate:string,id:string NULL DEFAULT null,qual:double NULL DEFAULT null,filter:string NULL DEFAULT null,info:string NULL DEFAULT null,ac:double NULL DEFAULT null,af:double NULL DEFAULT null,chromosome:string> [chromosome_id=0:*,1,0,start=0:*,10000000,0,end=0:*,10000000,0,alternate_id=0:19,20,0]'"
      ]
     },
     "execution_count": 53,
     "metadata": {},
     "output_type": "execute_result"
    }
   ],
   "source": [
    "#str(VARIANT)\n",
    "VARIANT.schema"
   ]
  },
  {
   "cell_type": "code",
   "execution_count": 55,
   "metadata": {
    "collapsed": false
   },
   "outputs": [
    {
     "data": {
      "text/plain": [
       "19864.0"
      ]
     },
     "execution_count": 55,
     "metadata": {},
     "output_type": "execute_result"
    }
   ],
   "source": [
    "#count(VARIANT)\n",
    "VARIANT.count().toarray()[0][0]"
   ]
  },
  {
   "cell_type": "code",
   "execution_count": 94,
   "metadata": {
    "collapsed": false
   },
   "outputs": [
    {
     "data": {
      "text/html": [
       "<div style=\"max-height:1000px;max-width:1500px;overflow:auto;\">\n",
       "<table border=\"1\" class=\"dataframe\">\n",
       "  <thead>\n",
       "    <tr style=\"text-align: right;\">\n",
       "      <th></th>\n",
       "      <th>allele_1</th>\n",
       "      <th>allele_2</th>\n",
       "      <th>phase</th>\n",
       "    </tr>\n",
       "    <tr>\n",
       "      <th>sample_id</th>\n",
       "      <th></th>\n",
       "      <th></th>\n",
       "      <th></th>\n",
       "    </tr>\n",
       "  </thead>\n",
       "  <tbody>\n",
       "    <tr>\n",
       "      <th>0</th>\n",
       "      <td> 0</td>\n",
       "      <td> 0</td>\n",
       "      <td> 1</td>\n",
       "    </tr>\n",
       "    <tr>\n",
       "      <th>1</th>\n",
       "      <td> 0</td>\n",
       "      <td> 0</td>\n",
       "      <td> 1</td>\n",
       "    </tr>\n",
       "    <tr>\n",
       "      <th>2</th>\n",
       "      <td> 0</td>\n",
       "      <td> 0</td>\n",
       "      <td> 1</td>\n",
       "    </tr>\n",
       "    <tr>\n",
       "      <th>3</th>\n",
       "      <td> 0</td>\n",
       "      <td> 0</td>\n",
       "      <td> 1</td>\n",
       "    </tr>\n",
       "    <tr>\n",
       "      <th>4</th>\n",
       "      <td> 0</td>\n",
       "      <td> 0</td>\n",
       "      <td> 1</td>\n",
       "    </tr>\n",
       "  </tbody>\n",
       "</table>\n",
       "<p>5 rows × 3 columns</p>\n",
       "</div>"
      ],
      "text/plain": [
       "           allele_1  allele_2  phase\n",
       "sample_id                           \n",
       "0                 0         0      1\n",
       "1                 0         0      1\n",
       "2                 0         0      1\n",
       "3                 0         0      1\n",
       "4                 0         0      1\n",
       "\n",
       "[5 rows x 3 columns]"
      ]
     },
     "execution_count": 94,
     "metadata": {},
     "output_type": "execute_result"
    }
   ],
   "source": [
    "#GENOTYPE[9,60494,60494,1,0:4][]\n",
    "GENOTYPE[9,60494,60494,1,0:5].todataframe()"
   ]
  },
  {
   "cell_type": "code",
   "execution_count": 73,
   "metadata": {
    "collapsed": false
   },
   "outputs": [
    {
     "data": {
      "text/plain": [
       "u'<allele_1:bool NULL DEFAULT null,allele_2:bool NULL DEFAULT null,phase:bool NULL DEFAULT null> [chromosome_id=0:*,1,0,start=0:*,10000000,0,end=0:*,10000000,0,alternate_id=0:19,20,0,sample_id=0:*,100,0]'"
      ]
     },
     "execution_count": 73,
     "metadata": {},
     "output_type": "execute_result"
    }
   ],
   "source": [
    "#str(GENOTYPE)\n",
    "GENOTYPE.schema"
   ]
  },
  {
   "cell_type": "code",
   "execution_count": 103,
   "metadata": {
    "collapsed": false
   },
   "outputs": [
    {
     "data": {
      "text/plain": [
       "(49698274.0, 49698272.0, 49739456.0)"
      ]
     },
     "execution_count": 103,
     "metadata": {},
     "output_type": "execute_result"
    }
   ],
   "source": [
    "#count(GENOTYPE)\n",
    "GENOTYPE.count().toarray()[0]"
   ]
  },
  {
   "cell_type": "code",
   "execution_count": 102,
   "metadata": {
    "collapsed": false
   },
   "outputs": [
    {
     "data": {
      "text/plain": [
       "u'subarray(slice(py1101131311303_00012,chromosome_id,9,start,60494,end,60494),1,4)'"
      ]
     },
     "execution_count": 102,
     "metadata": {},
     "output_type": "execute_result"
    }
   ],
   "source": [
    "VARIANT[9,60494,60494,1:5].query"
   ]
  },
  {
   "cell_type": "markdown",
   "metadata": {},
   "source": [
    "On the other hand, small arrays can easily be moved back and forth between SciDB and R, with one pitfall: SciDB arrays are zero-based, while R uses one-based indexing. But as genome scientists, we're right at home dealing with that!\n",
    "\n",
    "## Transition/transversion ratio\n",
    "\n",
    "The transition/transversion ratio (Ti/Tv) is a common quality metric for variant call sets. Let's compute Ti/Tv of all the variants with respect to the reference genome. This first calculation is on the variants only, not the individuals' genotypes, and thus involves only a modest amount of data.\n"
   ]
  },
  {
   "cell_type": "code",
   "execution_count": 211,
   "metadata": {
    "collapsed": false
   },
   "outputs": [
    {
     "data": {
      "text/plain": [
       "18840"
      ]
     },
     "execution_count": 211,
     "metadata": {},
     "output_type": "execute_result"
    }
   ],
   "source": [
    "# count biallelic SNPs\n",
    "#SNP <- subset(VARIANT, \"(reference='A' or reference='G' or reference='C' or reference='T') and\n",
    "#                        (alternate='A' or alternate='G' or alternate='C' or alternate='T')\")\n",
    "SNP = sdb.afl.filter(VARIANT, \"(reference='A' or reference='G' or reference='C' or reference='T') and \\\n",
    "                        (alternate='A' or alternate='G' or alternate='C' or alternate='T')\")\n",
    "#snps <- count(SNP)\n",
    "snps = int(SNP.count().toarray()[0][0])\n",
    "#snps\n",
    "snps"
   ]
  },
  {
   "cell_type": "code",
   "execution_count": 212,
   "metadata": {
    "collapsed": false
   },
   "outputs": [
    {
     "data": {
      "text/plain": [
       "13209"
      ]
     },
     "execution_count": 212,
     "metadata": {},
     "output_type": "execute_result"
    }
   ],
   "source": [
    "# annotate each SNP as to whether it's a transition (or else transversion)\n",
    "\n",
    "#transitions_filter_str <- \"(reference='A' and alternate='G') or (reference='G' and alternate='A') or\n",
    "#                           (reference='C' and alternate='T') or (reference='T' and alternate='C')\"\n",
    "transitions_filter_str =   \"(reference='A' and alternate='G') or (reference='G' and alternate='A') or \\\n",
    "                            (reference='C' and alternate='T') or (reference='T' and alternate='C')\"\n",
    "\n",
    "#SNP <- bind(SNP,\"is_transition\",paste(\"bool(iif(\", transitions_filter_str, \",TRUE,FALSE))\"))\n",
    "SNP = sdb.afl.apply(SNP, \"is_transition\", \"bool(iif(%s, 1, 0))\" % transitions_filter_str)\n",
    "\n",
    "#SNP <- scidbeval(SNP)\n",
    "SNP = SNP.eval()\n",
    "\n",
    "# count transitions\n",
    "\n",
    "#ti <- count(SNP$is_transition %==% TRUE)\n",
    "ti = int((sdb.afl.filter(SNP['is_transition'], \"is_transition = TRUE\").count()).toarray()[0])\n",
    "ti"
   ]
  },
  {
   "cell_type": "code",
   "execution_count": 213,
   "metadata": {
    "collapsed": false
   },
   "outputs": [
    {
     "data": {
      "text/plain": [
       "5631"
      ]
     },
     "execution_count": 213,
     "metadata": {},
     "output_type": "execute_result"
    }
   ],
   "source": [
    "# count transversions\n",
    "#tv <- count(SNP$is_transition %==% FALSE)\n",
    "tv = int((sdb.afl.filter(SNP['is_transition'], \"is_transition = FALSE\").count()).toarray()[0])\n",
    "tv"
   ]
  },
  {
   "cell_type": "code",
   "execution_count": 215,
   "metadata": {
    "collapsed": false
   },
   "outputs": [
    {
     "data": {
      "text/plain": [
       "2.345764517847629"
      ]
     },
     "execution_count": 215,
     "metadata": {},
     "output_type": "execute_result"
    }
   ],
   "source": [
    "# report Ti/Tv\n",
    "#stopifnot(ti+tv == snps)\n",
    "assert ti + tv == snps\n",
    "float(ti)/tv"
   ]
  },
  {
   "cell_type": "markdown",
   "metadata": {},
   "source": [
    "Now let's look at the distribution of Ti/Tv across the individuals in the population. We use pipeR's `%>>%` operator to express a multi-step data processing pipeline, where `f(x) %>>% g(y)` denotes `g(f(x),y)`."
   ]
  },
  {
   "cell_type": "code",
   "execution_count": 296,
   "metadata": {
    "collapsed": false
   },
   "outputs": [],
   "source": [
    "#calculate.titv <- function(G) {\n",
    "#  (bind(G, \"alt_copies\", \"iif(allele_1,1,0)+ iif(allele_2,1,0)\")\n",
    "#   %>>% merge(SNP$is_transition)\n",
    "#   %>>% bind(c(\"ti\", \"tv\"),\n",
    "#             c(\"iif(is_transition, alt_copies, 0)\",\n",
    "#               \"iif(not is_transition, alt_copies, 0)\"))\n",
    "#   %>>% aggregate(FUN=\"sum(ti) as ti, sum(tv) as tv\", by = \"sample_id\")\n",
    "#   %>>% scidbeval)\n",
    "#}\n",
    "def calculate_titv(G):\n",
    "    expr = G.apply(\"alt_copies\", \"iif(allele_1,1,0)+ iif(allele_2,1,0)\")\n",
    "    expr = sdb.merge(expr, SNP['is_transition'])\n",
    "    expr = expr.apply(\"ti\", \"iif(is_transition, alt_copies, 0)\", \\\n",
    "                          \"tv\", \"iif(not is_transition, alt_copies, 0)\").\\\n",
    "            aggregate(\"sum(ti) as ti, sum(tv) as tv\", \"sample_id\").\\\n",
    "            eval()\n",
    "    return expr\n",
    "\n",
    "#titv <- calculate.titv(GENOTYPE)[]\n",
    "titv = calculate_titv(GENOTYPE).todataframe()\n",
    "\n",
    "#invisible(hist(titv$ti/titv$tv, xlab=\"Ti/Tv\", ylab=\"# individuals\", main=\"\"))\n",
    "plt.hist(xx['ti']/xx['tv'])\n",
    "plt.title(\"\")\n",
    "plt.xlabel(\"Ti/Tv\")\n",
    "plt.ylabel(\"# individuals\")\n",
    "plt.show()"
   ]
  },
  {
   "cell_type": "markdown",
   "metadata": {},
   "source": [
    "All the data traversal is performed by SciDB in parallel; then the histogram buckets and counts are imported into R memory for plotting. Note that lazily-evaluated subexpressions can be stored, composed, and reused as R variables. This is often a lot nicer than formulating SQL!\n",
    "\n",
    "We can also calculate Ti/Tv for just one individual, by filtering the input matrix:"
   ]
  },
  {
   "cell_type": "code",
   "execution_count": 312,
   "metadata": {
    "collapsed": false
   },
   "outputs": [],
   "source": [
    "#titv <- calculate.titv(merge(GENOTYPE, SAMPLE$sample %==% \"HG03209\"))[]\n",
    "#titv$ti/titv$tv\n",
    "temp = sdb.afl.filter(SAMPLE['sample'], 'sample = \"HG03209\"')\n",
    "sdb.merge(GENOTYPE, temp).query\n"
   ]
  },
  {
   "cell_type": "code",
   "execution_count": 313,
   "metadata": {
    "collapsed": false
   },
   "outputs": [
    {
     "data": {
      "text/plain": [
       "u'filter(project(KG_SAMPLE,sample),sample = \"HG03209\")'"
      ]
     },
     "execution_count": 313,
     "metadata": {},
     "output_type": "execute_result"
    }
   ],
   "source": [
    "temp.query"
   ]
  },
  {
   "cell_type": "code",
   "execution_count": 290,
   "metadata": {
    "collapsed": false
   },
   "outputs": [],
   "source": []
  },
  {
   "cell_type": "code",
   "execution_count": null,
   "metadata": {
    "collapsed": true
   },
   "outputs": [],
   "source": []
  },
  {
   "cell_type": "code",
   "execution_count": null,
   "metadata": {
    "collapsed": true
   },
   "outputs": [],
   "source": []
  },
  {
   "cell_type": "code",
   "execution_count": null,
   "metadata": {
    "collapsed": true
   },
   "outputs": [],
   "source": []
  },
  {
   "cell_type": "code",
   "execution_count": 261,
   "metadata": {
    "collapsed": false
   },
   "outputs": [
    {
     "data": {
      "text/plain": [
       "u'<f0:double> [i0=0:2,1000,0,i1=0:3,1000,0]'"
      ]
     },
     "execution_count": 261,
     "metadata": {},
     "output_type": "execute_result"
    }
   ],
   "source": [
    "x.schema"
   ]
  }
 ],
 "metadata": {
  "kernelspec": {
   "display_name": "Python 2",
   "language": "python",
   "name": "python2"
  },
  "language_info": {
   "codemirror_mode": {
    "name": "ipython",
    "version": 2
   },
   "file_extension": ".py",
   "mimetype": "text/x-python",
   "name": "python",
   "nbconvert_exporter": "python",
   "pygments_lexer": "ipython2",
   "version": "2.7.6"
  }
 },
 "nbformat": 4,
 "nbformat_minor": 0
}
