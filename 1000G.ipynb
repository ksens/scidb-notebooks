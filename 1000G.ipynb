{
 "cells": [
  {
   "cell_type": "markdown",
   "metadata": {},
   "source": [
    "# 1000 Genomes Exercises in SciDB"
   ]
  },
  {
   "cell_type": "markdown",
   "metadata": {},
   "source": [
    "SciDB is a scale-out DBMS designed for scientific use cases, with built-in capabilities for sophisticated mathematical calculations beyond the typical domain of SQL/NoSQL systems. This workbook demonstrates using SciDB's R interface for scalable query and analysis of 1000 Genomes phase 3 genotype data, including simple aggregations such as computing transition/transversion ratios, and more advanced calculations such as principal component analysis and estimating linkage disequilibrium.\n",
    "\n",
    "First, we connect to SciDB and obtain handles to the data arrays. For development/testing on a modest machine, we'll just look at chromosomes 21 and 22 across the 2,504 individuals; but SciDB can scale out on a cluster to handle arbitrarily large datasets."
   ]
  },
  {
   "cell_type": "code",
   "execution_count": 1,
   "metadata": {
    "collapsed": true
   },
   "outputs": [],
   "source": [
    "% matplotlib inline\n",
    "import matplotlib.pyplot as plt\n",
    "from scidbpy import connect\n",
    "import time\n",
    "from skimage import data, io, filters\n",
    "\n",
    "sdb = connect()\n",
    "SAMPLE = sdb.wrap_array('KG_SAMPLE')\n",
    "CHROMOSOME = sdb.wrap_array('KG_CHROMOSOME')\n",
    "VARIANT = sdb.merge(sdb.wrap_array('KG_VARIANT'), \n",
    "                    sdb.afl.filter(\"KG_CHROMOSOME\", \"chromosome='10' or chromosome='20' or chromosome='21'\"))\n",
    "VARIANT.eval()\n",
    "GENOTYPE = sdb.afl.project(\n",
    "    sdb.merge(\n",
    "        sdb.wrap_array('KG_GENOTYPE'),\n",
    "        sdb.afl.project(VARIANT, 'chromosome')\n",
    "        ),\n",
    "    'allele_1', 'allele_2', 'phase'\n",
    "    )"
   ]
  },
  {
   "cell_type": "markdown",
   "metadata": {},
   "source": [
    "The `VARIANT` array for chomosomes 21 and 22 has been stored in SciDB's memory (but not the memory of our local R process) by the `scidbeval()` expression above. In contrast, the `GENOTYPE` array is merely a lazy expression, denoting but not materializing the subset of all the genotypes on chromosomes 21 and 22. Because `GENOTYPE` is our biggest array by far, we avoid copying any significant portion of it.\n",
    "\n",
    "Let's take a look at the schema."
   ]
  },
  {
   "cell_type": "code",
   "execution_count": 2,
   "metadata": {
    "collapsed": false
   },
   "outputs": [
    {
     "data": {
      "text/html": [
       "<div style=\"max-height:1000px;max-width:1500px;overflow:auto;\">\n",
       "<table border=\"1\" class=\"dataframe\">\n",
       "  <thead>\n",
       "    <tr style=\"text-align: right;\">\n",
       "      <th></th>\n",
       "      <th></th>\n",
       "      <th></th>\n",
       "      <th></th>\n",
       "      <th>reference</th>\n",
       "      <th>alternate</th>\n",
       "      <th>id</th>\n",
       "      <th>qual</th>\n",
       "      <th>filter</th>\n",
       "      <th>info</th>\n",
       "      <th>ac</th>\n",
       "      <th>af</th>\n",
       "      <th>chromosome</th>\n",
       "    </tr>\n",
       "    <tr>\n",
       "      <th>chromosome_id</th>\n",
       "      <th>start</th>\n",
       "      <th>end</th>\n",
       "      <th>alternate_id</th>\n",
       "      <th></th>\n",
       "      <th></th>\n",
       "      <th></th>\n",
       "      <th></th>\n",
       "      <th></th>\n",
       "      <th></th>\n",
       "      <th></th>\n",
       "      <th></th>\n",
       "      <th></th>\n",
       "    </tr>\n",
       "  </thead>\n",
       "  <tbody>\n",
       "    <tr>\n",
       "      <th rowspan=\"5\" valign=\"top\">9</th>\n",
       "      <th>60494</th>\n",
       "      <th>60494</th>\n",
       "      <th>1</th>\n",
       "      <td> A</td>\n",
       "      <td> G</td>\n",
       "      <td>           .</td>\n",
       "      <td> 100</td>\n",
       "      <td> PASS</td>\n",
       "      <td> AC=27;AF=0.00539137;AN=5008;NS=2504</td>\n",
       "      <td> 27</td>\n",
       "      <td> 0.005391</td>\n",
       "      <td> 10</td>\n",
       "    </tr>\n",
       "    <tr>\n",
       "      <th>60515</th>\n",
       "      <th>60515</th>\n",
       "      <th>1</th>\n",
       "      <td> C</td>\n",
       "      <td> T</td>\n",
       "      <td>           .</td>\n",
       "      <td> 100</td>\n",
       "      <td> PASS</td>\n",
       "      <td> AC=1;AF=0.000199681;AN=5008;NS=2504</td>\n",
       "      <td>  1</td>\n",
       "      <td> 0.000200</td>\n",
       "      <td> 10</td>\n",
       "    </tr>\n",
       "    <tr>\n",
       "      <th>60523</th>\n",
       "      <th>60523</th>\n",
       "      <th>1</th>\n",
       "      <td> T</td>\n",
       "      <td> G</td>\n",
       "      <td> rs148087467</td>\n",
       "      <td> 100</td>\n",
       "      <td> PASS</td>\n",
       "      <td>  AC=91;AF=0.0181709;AN=5008;NS=2504</td>\n",
       "      <td> 91</td>\n",
       "      <td> 0.018171</td>\n",
       "      <td> 10</td>\n",
       "    </tr>\n",
       "    <tr>\n",
       "      <th>60607</th>\n",
       "      <th>60607</th>\n",
       "      <th>1</th>\n",
       "      <td> G</td>\n",
       "      <td> A</td>\n",
       "      <td>           .</td>\n",
       "      <td> 100</td>\n",
       "      <td> PASS</td>\n",
       "      <td> AC=1;AF=0.000199681;AN=5008;NS=2504</td>\n",
       "      <td>  1</td>\n",
       "      <td> 0.000200</td>\n",
       "      <td> 10</td>\n",
       "    </tr>\n",
       "    <tr>\n",
       "      <th>60684</th>\n",
       "      <th>60684</th>\n",
       "      <th>1</th>\n",
       "      <td> A</td>\n",
       "      <td> C</td>\n",
       "      <td>           .</td>\n",
       "      <td> 100</td>\n",
       "      <td> PASS</td>\n",
       "      <td>  AC=62;AF=0.0123802;AN=5008;NS=2504</td>\n",
       "      <td> 62</td>\n",
       "      <td> 0.012380</td>\n",
       "      <td> 10</td>\n",
       "    </tr>\n",
       "  </tbody>\n",
       "</table>\n",
       "<p>5 rows × 9 columns</p>\n",
       "</div>"
      ],
      "text/plain": [
       "                                       reference alternate           id  qual  \\\n",
       "chromosome_id start end   alternate_id                                          \n",
       "9             60494 60494 1                    A         G            .   100   \n",
       "              60515 60515 1                    C         T            .   100   \n",
       "              60523 60523 1                    T         G  rs148087467   100   \n",
       "              60607 60607 1                    G         A            .   100   \n",
       "              60684 60684 1                    A         C            .   100   \n",
       "\n",
       "                                       filter  \\\n",
       "chromosome_id start end   alternate_id          \n",
       "9             60494 60494 1              PASS   \n",
       "              60515 60515 1              PASS   \n",
       "              60523 60523 1              PASS   \n",
       "              60607 60607 1              PASS   \n",
       "              60684 60684 1              PASS   \n",
       "\n",
       "                                                                       info  \\\n",
       "chromosome_id start end   alternate_id                                        \n",
       "9             60494 60494 1             AC=27;AF=0.00539137;AN=5008;NS=2504   \n",
       "              60515 60515 1             AC=1;AF=0.000199681;AN=5008;NS=2504   \n",
       "              60523 60523 1              AC=91;AF=0.0181709;AN=5008;NS=2504   \n",
       "              60607 60607 1             AC=1;AF=0.000199681;AN=5008;NS=2504   \n",
       "              60684 60684 1              AC=62;AF=0.0123802;AN=5008;NS=2504   \n",
       "\n",
       "                                        ac        af chromosome  \n",
       "chromosome_id start end   alternate_id                           \n",
       "9             60494 60494 1             27  0.005391         10  \n",
       "              60515 60515 1              1  0.000200         10  \n",
       "              60523 60523 1             91  0.018171         10  \n",
       "              60607 60607 1              1  0.000200         10  \n",
       "              60684 60684 1             62  0.012380         10  \n",
       "\n",
       "[5 rows x 9 columns]"
      ]
     },
     "execution_count": 2,
     "metadata": {},
     "output_type": "execute_result"
    }
   ],
   "source": [
    "VARIANT.todataframe().head()"
   ]
  },
  {
   "cell_type": "code",
   "execution_count": 3,
   "metadata": {
    "collapsed": false
   },
   "outputs": [
    {
     "data": {
      "text/plain": [
       "u'<reference:string,alternate:string,id:string NULL DEFAULT null,qual:double NULL DEFAULT null,filter:string NULL DEFAULT null,info:string NULL DEFAULT null,ac:double NULL DEFAULT null,af:double NULL DEFAULT null,chromosome:string> [chromosome_id=0:*,1,0,start=0:*,10000000,0,end=0:*,10000000,0,alternate_id=0:19,20,0]'"
      ]
     },
     "execution_count": 3,
     "metadata": {},
     "output_type": "execute_result"
    }
   ],
   "source": [
    "VARIANT.schema"
   ]
  },
  {
   "cell_type": "code",
   "execution_count": 4,
   "metadata": {
    "collapsed": false
   },
   "outputs": [
    {
     "data": {
      "text/plain": [
       "19864.0"
      ]
     },
     "execution_count": 4,
     "metadata": {},
     "output_type": "execute_result"
    }
   ],
   "source": [
    "VARIANT.count().toarray()[0][0]"
   ]
  },
  {
   "cell_type": "code",
   "execution_count": 5,
   "metadata": {
    "collapsed": false
   },
   "outputs": [
    {
     "data": {
      "text/html": [
       "<div style=\"max-height:1000px;max-width:1500px;overflow:auto;\">\n",
       "<table border=\"1\" class=\"dataframe\">\n",
       "  <thead>\n",
       "    <tr style=\"text-align: right;\">\n",
       "      <th></th>\n",
       "      <th>allele_1</th>\n",
       "      <th>allele_2</th>\n",
       "      <th>phase</th>\n",
       "    </tr>\n",
       "    <tr>\n",
       "      <th>sample_id</th>\n",
       "      <th></th>\n",
       "      <th></th>\n",
       "      <th></th>\n",
       "    </tr>\n",
       "  </thead>\n",
       "  <tbody>\n",
       "    <tr>\n",
       "      <th>0</th>\n",
       "      <td> 0</td>\n",
       "      <td> 0</td>\n",
       "      <td> 1</td>\n",
       "    </tr>\n",
       "    <tr>\n",
       "      <th>1</th>\n",
       "      <td> 0</td>\n",
       "      <td> 0</td>\n",
       "      <td> 1</td>\n",
       "    </tr>\n",
       "    <tr>\n",
       "      <th>2</th>\n",
       "      <td> 0</td>\n",
       "      <td> 0</td>\n",
       "      <td> 1</td>\n",
       "    </tr>\n",
       "    <tr>\n",
       "      <th>3</th>\n",
       "      <td> 0</td>\n",
       "      <td> 0</td>\n",
       "      <td> 1</td>\n",
       "    </tr>\n",
       "    <tr>\n",
       "      <th>4</th>\n",
       "      <td> 0</td>\n",
       "      <td> 0</td>\n",
       "      <td> 1</td>\n",
       "    </tr>\n",
       "  </tbody>\n",
       "</table>\n",
       "<p>5 rows × 3 columns</p>\n",
       "</div>"
      ],
      "text/plain": [
       "           allele_1  allele_2  phase\n",
       "sample_id                           \n",
       "0                 0         0      1\n",
       "1                 0         0      1\n",
       "2                 0         0      1\n",
       "3                 0         0      1\n",
       "4                 0         0      1\n",
       "\n",
       "[5 rows x 3 columns]"
      ]
     },
     "execution_count": 5,
     "metadata": {},
     "output_type": "execute_result"
    }
   ],
   "source": [
    "GENOTYPE[9,60494,60494,1,0:5].todataframe()"
   ]
  },
  {
   "cell_type": "code",
   "execution_count": 6,
   "metadata": {
    "collapsed": false
   },
   "outputs": [
    {
     "data": {
      "text/plain": [
       "u'<allele_1:bool NULL DEFAULT null,allele_2:bool NULL DEFAULT null,phase:bool NULL DEFAULT null> [chromosome_id=0:*,1,0,start=0:*,10000000,0,end=0:*,10000000,0,alternate_id=0:19,20,0,sample_id=0:*,100,0]'"
      ]
     },
     "execution_count": 6,
     "metadata": {},
     "output_type": "execute_result"
    }
   ],
   "source": [
    "GENOTYPE.schema"
   ]
  },
  {
   "cell_type": "code",
   "execution_count": 7,
   "metadata": {
    "collapsed": false
   },
   "outputs": [
    {
     "data": {
      "text/plain": [
       "49739456"
      ]
     },
     "execution_count": 7,
     "metadata": {},
     "output_type": "execute_result"
    }
   ],
   "source": [
    "int(GENOTYPE.op_count().toarray()[0])"
   ]
  },
  {
   "cell_type": "markdown",
   "metadata": {},
   "source": [
    "On the other hand, small arrays can easily be moved back and forth between SciDB and R, with one pitfall: SciDB arrays are zero-based, while R uses one-based indexing. But as genome scientists, we're right at home dealing with that!\n",
    "\n",
    "## Transition/transversion ratio\n",
    "\n",
    "The transition/transversion ratio (Ti/Tv) is a common quality metric for variant call sets. Let's compute Ti/Tv of all the variants with respect to the reference genome. This first calculation is on the variants only, not the individuals' genotypes, and thus involves only a modest amount of data.\n"
   ]
  },
  {
   "cell_type": "code",
   "execution_count": 8,
   "metadata": {
    "collapsed": false
   },
   "outputs": [
    {
     "data": {
      "text/plain": [
       "18840"
      ]
     },
     "execution_count": 8,
     "metadata": {},
     "output_type": "execute_result"
    }
   ],
   "source": [
    "SNP = sdb.afl.filter(VARIANT, \"(reference='A' or reference='G' or reference='C' or reference='T') and \\\n",
    "                        (alternate='A' or alternate='G' or alternate='C' or alternate='T')\")\n",
    "snps = int(SNP.op_count().toarray()[0])\n",
    "snps"
   ]
  },
  {
   "cell_type": "code",
   "execution_count": 9,
   "metadata": {
    "collapsed": false
   },
   "outputs": [
    {
     "data": {
      "text/plain": [
       "13209"
      ]
     },
     "execution_count": 9,
     "metadata": {},
     "output_type": "execute_result"
    }
   ],
   "source": [
    "# annotate each SNP as to whether it's a transition (or else transversion)\n",
    "\n",
    "transitions_filter_str =   \"(reference='A' and alternate='G') or (reference='G' and alternate='A') or \\\n",
    "                            (reference='C' and alternate='T') or (reference='T' and alternate='C')\"\n",
    "SNP = sdb.afl.apply(SNP, \"is_transition\", \"bool(iif(%s, 1, 0))\" % transitions_filter_str)\n",
    "SNP = SNP.eval()\n",
    "\n",
    "# count transitions\n",
    "ti = int((sdb.afl.filter(SNP['is_transition'], \"is_transition = TRUE\").count()).toarray()[0])\n",
    "ti"
   ]
  },
  {
   "cell_type": "code",
   "execution_count": 10,
   "metadata": {
    "collapsed": false
   },
   "outputs": [
    {
     "data": {
      "text/plain": [
       "5631"
      ]
     },
     "execution_count": 10,
     "metadata": {},
     "output_type": "execute_result"
    }
   ],
   "source": [
    "# count transversions\n",
    "tv = int((sdb.afl.filter(SNP['is_transition'], \"is_transition = FALSE\").count()).toarray()[0])\n",
    "tv"
   ]
  },
  {
   "cell_type": "code",
   "execution_count": 11,
   "metadata": {
    "collapsed": false
   },
   "outputs": [
    {
     "data": {
      "text/plain": [
       "2.345764517847629"
      ]
     },
     "execution_count": 11,
     "metadata": {},
     "output_type": "execute_result"
    }
   ],
   "source": [
    "# report Ti/Tv\n",
    "assert ti + tv == snps\n",
    "float(ti)/tv"
   ]
  },
  {
   "cell_type": "markdown",
   "metadata": {},
   "source": [
    "Now let's look at the distribution of Ti/Tv across the individuals in the population. The R notebook uses pipeR's `%>>%` operator to express a multi-step data processing pipeline, where `f(x) %>>% g(y)` denotes `g(f(x),y)`."
   ]
  },
  {
   "cell_type": "code",
   "execution_count": 13,
   "metadata": {
    "collapsed": false
   },
   "outputs": [
    {
     "data": {
      "image/png": "[encoded data removed]",
      "text/plain": [
       "<matplotlib.figure.Figure at 0x7f810e925250>"
      ]
     },
     "metadata": {},
     "output_type": "display_data"
    }
   ],
   "source": [
    "def calculate_titv(G):\n",
    "    expr = G.apply(\"alt_copies\", \"iif(allele_1,1,0)+ iif(allele_2,1,0)\")\n",
    "    expr = sdb.merge(expr, SNP['is_transition'])\n",
    "    expr = expr.apply(\"ti\", \"iif(is_transition, alt_copies, 0)\", \\\n",
    "                          \"tv\", \"iif(not is_transition, alt_copies, 0)\").\\\n",
    "            aggregate(\"sum(ti) as ti, sum(tv) as tv\", \"sample_id\").\\\n",
    "            eval()\n",
    "    return expr\n",
    "\n",
    "titv = calculate_titv(GENOTYPE).todataframe()\n",
    "\n",
    "plt.hist(titv['ti']/titv['tv'])\n",
    "plt.title(\"\")\n",
    "plt.xlabel(\"Ti/Tv\")\n",
    "plt.ylabel(\"# individuals\")\n",
    "plt.show()"
   ]
  },
  {
   "cell_type": "markdown",
   "metadata": {},
   "source": [
    "All the data traversal is performed by SciDB in parallel; then the histogram buckets and counts are imported into R memory for plotting. Note that lazily-evaluated subexpressions can be stored, composed, and reused as R variables. This is often a lot nicer than formulating SQL!\n",
    "\n",
    "We can also calculate Ti/Tv for just one individual, by filtering the input matrix:"
   ]
  },
  {
   "cell_type": "code",
   "execution_count": 14,
   "metadata": {
    "collapsed": false
   },
   "outputs": [
    {
     "data": {
      "text/plain": [
       "sample_id\n",
       "1234         2.275641\n",
       "dtype: float64"
      ]
     },
     "execution_count": 14,
     "metadata": {},
     "output_type": "execute_result"
    }
   ],
   "source": [
    "titv1 = calculate_titv(\n",
    "    sdb.merge(\n",
    "        GENOTYPE, \n",
    "        sdb.afl.filter(SAMPLE['sample'], \"sample = 'HG03209'\")\n",
    "    )\n",
    "    ).todataframe()\n",
    "titv1['ti']/titv1['tv']"
   ]
  },
  {
   "cell_type": "markdown",
   "metadata": {
    "collapsed": false
   },
   "source": [
    "## Principal component analysis\n",
    "\n",
    "Now let's find principal components of the genotype data and project the individual genomes onto them, revealing the underlying population structure. Begin by selecting common SNPs, because rare variants inherently don't contribute much to the overall variance.\n",
    "\n",
    "Select all variants whose af is greater than min_af and less than max_af; if variant_limit is\n",
    "specified, then select up to that many variants, chosen randomly. "
   ]
  },
  {
   "cell_type": "code",
   "execution_count": 15,
   "metadata": {
    "collapsed": false
   },
   "outputs": [
    {
     "name": "stdout",
     "output_type": "stream",
     "text": [
      "0.074572 0.074575: Found 1028 variants that fit the criteria; running [1028 x 2504]\n"
     ]
    }
   ],
   "source": [
    "min_af = 0.1\n",
    "max_af = 0.9\n",
    "chunk_size=512\n",
    "#variant_limit = 4\n",
    "\n",
    "t0 = time.clock()\n",
    "KG_CHROMOSOME = sdb.wrap_array(\"KG_CHROMOSOME\")\n",
    "KG_VARIANT    = sdb.wrap_array(\"KG_VARIANT\")\n",
    "KG_GENOTYPE   = sdb.wrap_array(\"KG_GENOTYPE\")\n",
    "KG_SAMPLE     = sdb.wrap_array(\"KG_SAMPLE\")\n",
    "\n",
    "KG_POPULATION = sdb.wrap_array(\"KG_POPULATION\")\n",
    "#selected_variants = dimension_rename(project(unpack(subset(KG_VARIANT, sprintf(\"af>%f and af<%f\", \n",
    "#  min_af, max_af))), c(\"chromosome_id, start, end, alternate_id\")), old=\"i\", new=\"dense_variant_id\")\n",
    "selected_variants = KG_VARIANT.filter(\"af>%f and af<%f\" % (min_af, max_af))\\\n",
    "                                .unpack()\\\n",
    "                                .project(\"chromosome_id, start, end, alternate_id\")\\\n",
    "                                .dimension_rename('idx', 'dense_variant_id')\n",
    "\n",
    "if 'variant_limit' in locals() or 'variant_limit' in globals():\n",
    "    selected_variants = selected_variants.apply(\"randomizer\", \"random()\")\\\n",
    "                                            .sort(\"randomizer asc\")\\\n",
    "                                            .between(0, variant_limit-1)\\\n",
    "                                            .dimension_rename('n', 'dense_variant_id')\n",
    "    \n",
    "selected_variants = selected_variants.eval()\n",
    "num_variants = int(selected_variants.op_count().toarray()[0])\n",
    "num_samples = int(KG_SAMPLE.op_count().toarray()[0])\n",
    "print(\"%f %f: Found %i variants that fit the criteria; running [%i x %i]\" %\n",
    "              ((time.clock()-t0), (time.clock()-t0), num_variants, num_variants, num_samples))\n"
   ]
  },
  {
   "cell_type": "markdown",
   "metadata": {},
   "source": [
    "The redimension operation just removes some unneeded attributes and dimensions."
   ]
  },
  {
   "cell_type": "code",
   "execution_count": 16,
   "metadata": {
    "collapsed": false,
    "scrolled": false
   },
   "outputs": [],
   "source": [
    "t1=time.clock()\n",
    "redim_guide = selected_variants.redimension(\"<dense_variant_id:int64> \\\n",
    "        [chromosome_id=0:*,1,0,start=0:*,10000000,0,end=0:*,10000000,0,alternate_id=0:19,20,0]\")\n",
    "#        scidb:::build_dim_schema(KG_VARIANT)))"
   ]
  },
  {
   "cell_type": "markdown",
   "metadata": {},
   "source": [
    "<value> [sample_id, variant_number] where value is 2 if the variant is present in both alleles,\n",
    "1 if the variant is present in one allele or 0 otherwise. "
   ]
  },
  {
   "cell_type": "code",
   "execution_count": 17,
   "metadata": {
    "collapsed": false
   },
   "outputs": [
    {
     "name": "stdout",
     "output_type": "stream",
     "text": [
      "0.110834 0.031163: Built matrix\n"
     ]
    }
   ],
   "source": [
    "redim_matrix = KG_GENOTYPE.apply(\"v\", \"double(iif(allele_1 and allele_2, 2.0, iif(allele_1 or allele_2, 1.0, 0.0)))\")\n",
    "redim_matrix = sdb.merge(redim_matrix, redim_guide)\n",
    "redim_matrix = redim_matrix.redimension(\"<v:double null> [sample_id = 0:%i,%i,0, dense_variant_id=0:%i,%i,0]\" % \n",
    "                                                 (num_samples-1, chunk_size, num_variants-1, chunk_size))\\\n",
    "                            .substitute(\"double(nan)\")\\\n",
    "                            .eval()\n",
    "print(\"%f %f: Built matrix\" % ((time.clock()-t0), (time.clock()-t1)))"
   ]
  },
  {
   "cell_type": "markdown",
   "metadata": {},
   "source": [
    "Sweep out the column means"
   ]
  },
  {
   "cell_type": "code",
   "execution_count": 18,
   "metadata": {
    "collapsed": false
   },
   "outputs": [
    {
     "name": "stdout",
     "output_type": "stream",
     "text": [
      "0.151283 0.035232: Centered\n"
     ]
    }
   ],
   "source": [
    "t1=time.clock()\n",
    "centered = redim_matrix - redim_matrix.mean(0)\n",
    "centered = centered.eval()\n",
    "print(\"%f %f: Centered\" % ((time.clock()-t0), (time.clock()-t1)))"
   ]
  },
  {
   "cell_type": "markdown",
   "metadata": {},
   "source": [
    "## Calculate covariance\n",
    "\n",
    "\n",
    "Calculate and display the covariance\n",
    "{Previous text}: Normalize each variable and compute the sample covariance matrix (\"economy-sized\", since we have many more variables than observations):"
   ]
  },
  {
   "cell_type": "code",
   "execution_count": 19,
   "metadata": {
    "collapsed": false,
    "scrolled": false
   },
   "outputs": [
    {
     "data": {
      "image/png": "[encoded data removed]",
      "text/plain": [
       "<matplotlib.figure.Figure at 0x7f810e750910>"
      ]
     },
     "metadata": {},
     "output_type": "display_data"
    }
   ],
   "source": [
    "X = centered\n",
    "Y = X.T  # samples in columns\n",
    "Y = Y - Y.mean(0)\n",
    "CV = (sdb.dot(X, Y)/(X.shape[0]-1)).toarray()\n",
    "io.imshow(CV, cmap='gist_heat')\n",
    "io.show()"
   ]
  },
  {
   "cell_type": "markdown",
   "metadata": {},
   "source": [
    "Both axes above are simply the 2,504 samples in the phase 3 data. The observed correlation structure probably just reflects how the 1000 Genomes project added sample batches of various ethnicities over time.\n",
    "\n",
    "Now perform SVD on the covariance matrix, and plot the projection of the observations (individuals) onto the first three principal components:"
   ]
  },
  {
   "cell_type": "code",
   "execution_count": 20,
   "metadata": {
    "collapsed": false,
    "scrolled": true
   },
   "outputs": [
    {
     "name": "stdout",
     "output_type": "stream",
     "text": [
      "1.229174 0.005432: SVD Computed\n"
     ]
    }
   ],
   "source": [
    "t1=time.clock()\n",
    "svded = sdb.afl.gesvd(\"%s, 'left'\" % centered.name)\\\n",
    "            .eval()\n",
    "print(\"%f %f: SVD Computed\" % ((time.clock()-t0), (time.clock()-t1)))\n",
    "download = svded[:, 0:3].toarray()"
   ]
  },
  {
   "cell_type": "markdown",
   "metadata": {},
   "source": [
    "Make a cute 3D plot (to be added)"
   ]
  },
  {
   "cell_type": "code",
   "execution_count": 21,
   "metadata": {
    "collapsed": false
   },
   "outputs": [],
   "source": [
    "download2 = svded[0:4, 0:2].toarray()"
   ]
  },
  {
   "cell_type": "code",
   "execution_count": 22,
   "metadata": {
    "collapsed": false
   },
   "outputs": [
    {
     "data": {
      "text/plain": [
       "<matplotlib.image.AxesImage at 0x7f810b5a5e90>"
      ]
     },
     "execution_count": 22,
     "metadata": {},
     "output_type": "execute_result"
    },
    {
     "data": {
      "image/png": "[encoded data removed]",
      "text/plain": [
       "<matplotlib.figure.Figure at 0x7f810e605cd0>"
      ]
     },
     "metadata": {},
     "output_type": "display_data"
    }
   ],
   "source": [
    "io.imshow(download2)"
   ]
  },
  {
   "cell_type": "markdown",
   "metadata": {},
   "source": [
    "The redimension operation just removes some unneeded attributes and dimensions."
   ]
  },
  {
   "cell_type": "markdown",
   "metadata": {},
   "source": [
    "\n",
    "For the avoidance of doubt: all the matrix calculations here were parallelized in SciDB, not computed by the local R process. We didn't have to dump a lot of data into any separate system for numerical analysis.\n",
    "\n",
    "{Previous text}: Now construct a matrix `G` where `G[i,j]` is the number of copies of the alt allele found in sample `i`, common SNP `j`. The samples are observations, and the SNPs are variables. Reference: doi:10.1371/journal.pgen.0020190\n",
    "\n",
    "The PCA's interpretation becomes clear if we label the points by the ethnicity of each individual. This also provides an elementary example of joining \"phenotypic data\":"
   ]
  },
  {
   "cell_type": "markdown",
   "metadata": {
    "collapsed": false
   },
   "source": [
    "### To be done"
   ]
  }
 ],
 "metadata": {
  "kernelspec": {
   "display_name": "Python 2",
   "language": "python",
   "name": "python2"
  },
  "language_info": {
   "codemirror_mode": {
    "name": "ipython",
    "version": 2
   },
   "file_extension": ".py",
   "mimetype": "text/x-python",
   "name": "python",
   "nbconvert_exporter": "python",
   "pygments_lexer": "ipython2",
   "version": "2.7.6"
  }
 },
 "nbformat": 4,
 "nbformat_minor": 0
}
