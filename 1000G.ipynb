{
 "cells": [
  {
   "cell_type": "markdown",
   "metadata": {},
   "source": [
    "# 1000 Genomes Exercises in SciDB"
   ]
  },
  {
   "cell_type": "markdown",
   "metadata": {},
   "source": [
    "SciDB is a scale-out DBMS designed for scientific use cases, with built-in capabilities for sophisticated mathematical calculations beyond the typical domain of SQL/NoSQL systems. This workbook demonstrates using SciDB's R interface for scalable query and analysis of 1000 Genomes phase 3 genotype data, including simple aggregations such as computing transition/transversion ratios, and more advanced calculations such as principal component analysis and estimating linkage disequilibrium.\n",
    "\n",
    "First, we connect to SciDB and obtain handles to the data arrays. For development/testing on a modest machine, we'll just look at chromosomes 21 and 22 across the 2,504 individuals; but SciDB can scale out on a cluster to handle arbitrarily large datasets."
   ]
  },
  {
   "cell_type": "code",
   "execution_count": 1,
   "metadata": {
    "collapsed": true
   },
   "outputs": [],
   "source": [
    "% matplotlib inline\n",
    "import matplotlib.pyplot as plt\n",
    "from scidbpy import connect\n",
    "sdb = connect()\n",
    "SAMPLE = sdb.wrap_array('KG_SAMPLE')\n",
    "CHROMOSOME = sdb.wrap_array('KG_CHROMOSOME')\n",
    "VARIANT = sdb.merge(sdb.wrap_array('KG_VARIANT'), \n",
    "                    sdb.afl.filter(\"KG_CHROMOSOME\", \"chromosome='10' or chromosome='20' or chromosome='21'\"))\n",
    "VARIANT.eval()\n",
    "GENOTYPE = sdb.afl.project(\n",
    "    sdb.merge(\n",
    "        sdb.wrap_array('KG_GENOTYPE'),\n",
    "        sdb.afl.project(VARIANT, 'chromosome')\n",
    "        ),\n",
    "    'allele_1', 'allele_2', 'phase'\n",
    "    )"
   ]
  },
  {
   "cell_type": "markdown",
   "metadata": {},
   "source": [
    "The `VARIANT` array for chomosomes 21 and 22 has been stored in SciDB's memory (but not the memory of our local R process) by the `scidbeval()` expression above. In contrast, the `GENOTYPE` array is merely a lazy expression, denoting but not materializing the subset of all the genotypes on chromosomes 21 and 22. Because `GENOTYPE` is our biggest array by far, we avoid copying any significant portion of it.\n",
    "\n",
    "Let's take a look at the schema."
   ]
  },
  {
   "cell_type": "code",
   "execution_count": 2,
   "metadata": {
    "collapsed": false
   },
   "outputs": [
    {
     "data": {
      "text/html": [
       "<div style=\"max-height:1000px;max-width:1500px;overflow:auto;\">\n",
       "<table border=\"1\" class=\"dataframe\">\n",
       "  <thead>\n",
       "    <tr style=\"text-align: right;\">\n",
       "      <th></th>\n",
       "      <th></th>\n",
       "      <th></th>\n",
       "      <th></th>\n",
       "      <th>reference</th>\n",
       "      <th>alternate</th>\n",
       "      <th>id</th>\n",
       "      <th>qual</th>\n",
       "      <th>filter</th>\n",
       "      <th>info</th>\n",
       "      <th>ac</th>\n",
       "      <th>af</th>\n",
       "      <th>chromosome</th>\n",
       "    </tr>\n",
       "    <tr>\n",
       "      <th>chromosome_id</th>\n",
       "      <th>start</th>\n",
       "      <th>end</th>\n",
       "      <th>alternate_id</th>\n",
       "      <th></th>\n",
       "      <th></th>\n",
       "      <th></th>\n",
       "      <th></th>\n",
       "      <th></th>\n",
       "      <th></th>\n",
       "      <th></th>\n",
       "      <th></th>\n",
       "      <th></th>\n",
       "    </tr>\n",
       "  </thead>\n",
       "  <tbody>\n",
       "    <tr>\n",
       "      <th rowspan=\"5\" valign=\"top\">9</th>\n",
       "      <th>60494</th>\n",
       "      <th>60494</th>\n",
       "      <th>1</th>\n",
       "      <td> A</td>\n",
       "      <td> G</td>\n",
       "      <td>           .</td>\n",
       "      <td> 100</td>\n",
       "      <td> PASS</td>\n",
       "      <td> AC=27;AF=0.00539137;AN=5008;NS=2504</td>\n",
       "      <td> 27</td>\n",
       "      <td> 0.005391</td>\n",
       "      <td> 10</td>\n",
       "    </tr>\n",
       "    <tr>\n",
       "      <th>60515</th>\n",
       "      <th>60515</th>\n",
       "      <th>1</th>\n",
       "      <td> C</td>\n",
       "      <td> T</td>\n",
       "      <td>           .</td>\n",
       "      <td> 100</td>\n",
       "      <td> PASS</td>\n",
       "      <td> AC=1;AF=0.000199681;AN=5008;NS=2504</td>\n",
       "      <td>  1</td>\n",
       "      <td> 0.000200</td>\n",
       "      <td> 10</td>\n",
       "    </tr>\n",
       "    <tr>\n",
       "      <th>60523</th>\n",
       "      <th>60523</th>\n",
       "      <th>1</th>\n",
       "      <td> T</td>\n",
       "      <td> G</td>\n",
       "      <td> rs148087467</td>\n",
       "      <td> 100</td>\n",
       "      <td> PASS</td>\n",
       "      <td>  AC=91;AF=0.0181709;AN=5008;NS=2504</td>\n",
       "      <td> 91</td>\n",
       "      <td> 0.018171</td>\n",
       "      <td> 10</td>\n",
       "    </tr>\n",
       "    <tr>\n",
       "      <th>60607</th>\n",
       "      <th>60607</th>\n",
       "      <th>1</th>\n",
       "      <td> G</td>\n",
       "      <td> A</td>\n",
       "      <td>           .</td>\n",
       "      <td> 100</td>\n",
       "      <td> PASS</td>\n",
       "      <td> AC=1;AF=0.000199681;AN=5008;NS=2504</td>\n",
       "      <td>  1</td>\n",
       "      <td> 0.000200</td>\n",
       "      <td> 10</td>\n",
       "    </tr>\n",
       "    <tr>\n",
       "      <th>60684</th>\n",
       "      <th>60684</th>\n",
       "      <th>1</th>\n",
       "      <td> A</td>\n",
       "      <td> C</td>\n",
       "      <td>           .</td>\n",
       "      <td> 100</td>\n",
       "      <td> PASS</td>\n",
       "      <td>  AC=62;AF=0.0123802;AN=5008;NS=2504</td>\n",
       "      <td> 62</td>\n",
       "      <td> 0.012380</td>\n",
       "      <td> 10</td>\n",
       "    </tr>\n",
       "  </tbody>\n",
       "</table>\n",
       "<p>5 rows × 9 columns</p>\n",
       "</div>"
      ],
      "text/plain": [
       "                                       reference alternate           id  qual  \\\n",
       "chromosome_id start end   alternate_id                                          \n",
       "9             60494 60494 1                    A         G            .   100   \n",
       "              60515 60515 1                    C         T            .   100   \n",
       "              60523 60523 1                    T         G  rs148087467   100   \n",
       "              60607 60607 1                    G         A            .   100   \n",
       "              60684 60684 1                    A         C            .   100   \n",
       "\n",
       "                                       filter  \\\n",
       "chromosome_id start end   alternate_id          \n",
       "9             60494 60494 1              PASS   \n",
       "              60515 60515 1              PASS   \n",
       "              60523 60523 1              PASS   \n",
       "              60607 60607 1              PASS   \n",
       "              60684 60684 1              PASS   \n",
       "\n",
       "                                                                       info  \\\n",
       "chromosome_id start end   alternate_id                                        \n",
       "9             60494 60494 1             AC=27;AF=0.00539137;AN=5008;NS=2504   \n",
       "              60515 60515 1             AC=1;AF=0.000199681;AN=5008;NS=2504   \n",
       "              60523 60523 1              AC=91;AF=0.0181709;AN=5008;NS=2504   \n",
       "              60607 60607 1             AC=1;AF=0.000199681;AN=5008;NS=2504   \n",
       "              60684 60684 1              AC=62;AF=0.0123802;AN=5008;NS=2504   \n",
       "\n",
       "                                        ac        af chromosome  \n",
       "chromosome_id start end   alternate_id                           \n",
       "9             60494 60494 1             27  0.005391         10  \n",
       "              60515 60515 1              1  0.000200         10  \n",
       "              60523 60523 1             91  0.018171         10  \n",
       "              60607 60607 1              1  0.000200         10  \n",
       "              60684 60684 1             62  0.012380         10  \n",
       "\n",
       "[5 rows x 9 columns]"
      ]
     },
     "execution_count": 2,
     "metadata": {},
     "output_type": "execute_result"
    }
   ],
   "source": [
    "VARIANT.todataframe().head()"
   ]
  },
  {
   "cell_type": "code",
   "execution_count": 3,
   "metadata": {
    "collapsed": false
   },
   "outputs": [
    {
     "data": {
      "text/plain": [
       "u'<reference:string,alternate:string,id:string NULL DEFAULT null,qual:double NULL DEFAULT null,filter:string NULL DEFAULT null,info:string NULL DEFAULT null,ac:double NULL DEFAULT null,af:double NULL DEFAULT null,chromosome:string> [chromosome_id=0:*,1,0,start=0:*,10000000,0,end=0:*,10000000,0,alternate_id=0:19,20,0]'"
      ]
     },
     "execution_count": 3,
     "metadata": {},
     "output_type": "execute_result"
    }
   ],
   "source": [
    "VARIANT.schema"
   ]
  },
  {
   "cell_type": "code",
   "execution_count": 4,
   "metadata": {
    "collapsed": false
   },
   "outputs": [
    {
     "data": {
      "text/plain": [
       "19864.0"
      ]
     },
     "execution_count": 4,
     "metadata": {},
     "output_type": "execute_result"
    }
   ],
   "source": [
    "VARIANT.count().toarray()[0][0]"
   ]
  },
  {
   "cell_type": "code",
   "execution_count": 5,
   "metadata": {
    "collapsed": false
   },
   "outputs": [
    {
     "data": {
      "text/html": [
       "<div style=\"max-height:1000px;max-width:1500px;overflow:auto;\">\n",
       "<table border=\"1\" class=\"dataframe\">\n",
       "  <thead>\n",
       "    <tr style=\"text-align: right;\">\n",
       "      <th></th>\n",
       "      <th>allele_1</th>\n",
       "      <th>allele_2</th>\n",
       "      <th>phase</th>\n",
       "    </tr>\n",
       "    <tr>\n",
       "      <th>sample_id</th>\n",
       "      <th></th>\n",
       "      <th></th>\n",
       "      <th></th>\n",
       "    </tr>\n",
       "  </thead>\n",
       "  <tbody>\n",
       "    <tr>\n",
       "      <th>0</th>\n",
       "      <td> 0</td>\n",
       "      <td> 0</td>\n",
       "      <td> 1</td>\n",
       "    </tr>\n",
       "    <tr>\n",
       "      <th>1</th>\n",
       "      <td> 0</td>\n",
       "      <td> 0</td>\n",
       "      <td> 1</td>\n",
       "    </tr>\n",
       "    <tr>\n",
       "      <th>2</th>\n",
       "      <td> 0</td>\n",
       "      <td> 0</td>\n",
       "      <td> 1</td>\n",
       "    </tr>\n",
       "    <tr>\n",
       "      <th>3</th>\n",
       "      <td> 0</td>\n",
       "      <td> 0</td>\n",
       "      <td> 1</td>\n",
       "    </tr>\n",
       "    <tr>\n",
       "      <th>4</th>\n",
       "      <td> 0</td>\n",
       "      <td> 0</td>\n",
       "      <td> 1</td>\n",
       "    </tr>\n",
       "  </tbody>\n",
       "</table>\n",
       "<p>5 rows × 3 columns</p>\n",
       "</div>"
      ],
      "text/plain": [
       "           allele_1  allele_2  phase\n",
       "sample_id                           \n",
       "0                 0         0      1\n",
       "1                 0         0      1\n",
       "2                 0         0      1\n",
       "3                 0         0      1\n",
       "4                 0         0      1\n",
       "\n",
       "[5 rows x 3 columns]"
      ]
     },
     "execution_count": 5,
     "metadata": {},
     "output_type": "execute_result"
    }
   ],
   "source": [
    "GENOTYPE[9,60494,60494,1,0:5].todataframe()"
   ]
  },
  {
   "cell_type": "code",
   "execution_count": 6,
   "metadata": {
    "collapsed": false
   },
   "outputs": [
    {
     "data": {
      "text/plain": [
       "u'<allele_1:bool NULL DEFAULT null,allele_2:bool NULL DEFAULT null,phase:bool NULL DEFAULT null> [chromosome_id=0:*,1,0,start=0:*,10000000,0,end=0:*,10000000,0,alternate_id=0:19,20,0,sample_id=0:*,100,0]'"
      ]
     },
     "execution_count": 6,
     "metadata": {},
     "output_type": "execute_result"
    }
   ],
   "source": [
    "GENOTYPE.schema"
   ]
  },
  {
   "cell_type": "code",
   "execution_count": 29,
   "metadata": {
    "collapsed": false
   },
   "outputs": [
    {
     "data": {
      "text/plain": [
       "49739456"
      ]
     },
     "execution_count": 29,
     "metadata": {},
     "output_type": "execute_result"
    }
   ],
   "source": [
    "int(GENOTYPE.op_count().toarray()[0])"
   ]
  },
  {
   "cell_type": "markdown",
   "metadata": {},
   "source": [
    "On the other hand, small arrays can easily be moved back and forth between SciDB and R, with one pitfall: SciDB arrays are zero-based, while R uses one-based indexing. But as genome scientists, we're right at home dealing with that!\n",
    "\n",
    "## Transition/transversion ratio\n",
    "\n",
    "The transition/transversion ratio (Ti/Tv) is a common quality metric for variant call sets. Let's compute Ti/Tv of all the variants with respect to the reference genome. This first calculation is on the variants only, not the individuals' genotypes, and thus involves only a modest amount of data.\n"
   ]
  },
  {
   "cell_type": "code",
   "execution_count": 30,
   "metadata": {
    "collapsed": false
   },
   "outputs": [
    {
     "data": {
      "text/plain": [
       "18840"
      ]
     },
     "execution_count": 30,
     "metadata": {},
     "output_type": "execute_result"
    }
   ],
   "source": [
    "SNP = sdb.afl.filter(VARIANT, \"(reference='A' or reference='G' or reference='C' or reference='T') and \\\n",
    "                        (alternate='A' or alternate='G' or alternate='C' or alternate='T')\")\n",
    "snps = int(SNP.op_count().toarray()[0])\n",
    "snps"
   ]
  },
  {
   "cell_type": "code",
   "execution_count": 31,
   "metadata": {
    "collapsed": false
   },
   "outputs": [
    {
     "data": {
      "text/plain": [
       "13209"
      ]
     },
     "execution_count": 31,
     "metadata": {},
     "output_type": "execute_result"
    }
   ],
   "source": [
    "# annotate each SNP as to whether it's a transition (or else transversion)\n",
    "\n",
    "transitions_filter_str =   \"(reference='A' and alternate='G') or (reference='G' and alternate='A') or \\\n",
    "                            (reference='C' and alternate='T') or (reference='T' and alternate='C')\"\n",
    "SNP = sdb.afl.apply(SNP, \"is_transition\", \"bool(iif(%s, 1, 0))\" % transitions_filter_str)\n",
    "SNP = SNP.eval()\n",
    "\n",
    "# count transitions\n",
    "ti = int((sdb.afl.filter(SNP['is_transition'], \"is_transition = TRUE\").count()).toarray()[0])\n",
    "ti"
   ]
  },
  {
   "cell_type": "code",
   "execution_count": 32,
   "metadata": {
    "collapsed": false
   },
   "outputs": [
    {
     "data": {
      "text/plain": [
       "5631"
      ]
     },
     "execution_count": 32,
     "metadata": {},
     "output_type": "execute_result"
    }
   ],
   "source": [
    "# count transversions\n",
    "tv = int((sdb.afl.filter(SNP['is_transition'], \"is_transition = FALSE\").count()).toarray()[0])\n",
    "tv"
   ]
  },
  {
   "cell_type": "code",
   "execution_count": 33,
   "metadata": {
    "collapsed": false
   },
   "outputs": [
    {
     "data": {
      "text/plain": [
       "2.345764517847629"
      ]
     },
     "execution_count": 33,
     "metadata": {},
     "output_type": "execute_result"
    }
   ],
   "source": [
    "# report Ti/Tv\n",
    "assert ti + tv == snps\n",
    "float(ti)/tv"
   ]
  },
  {
   "cell_type": "markdown",
   "metadata": {},
   "source": [
    "Now let's look at the distribution of Ti/Tv across the individuals in the population. The R notebook uses pipeR's `%>>%` operator to express a multi-step data processing pipeline, where `f(x) %>>% g(y)` denotes `g(f(x),y)`."
   ]
  },
  {
   "cell_type": "code",
   "execution_count": 36,
   "metadata": {
    "collapsed": false
   },
   "outputs": [
    {
     "data": {
      "image/png": "[encoded data removed]",
      "text/plain": [
       "<matplotlib.figure.Figure at 0x7f7c9ca02690>"
      ]
     },
     "metadata": {},
     "output_type": "display_data"
    }
   ],
   "source": [
    "def calculate_titv(G):\n",
    "    expr = G.apply(\"alt_copies\", \"iif(allele_1,1,0)+ iif(allele_2,1,0)\")\n",
    "    expr = sdb.merge(expr, SNP['is_transition'])\n",
    "    expr = expr.apply(\"ti\", \"iif(is_transition, alt_copies, 0)\", \\\n",
    "                          \"tv\", \"iif(not is_transition, alt_copies, 0)\").\\\n",
    "            aggregate(\"sum(ti) as ti, sum(tv) as tv\", \"sample_id\").\\\n",
    "            eval()\n",
    "    return expr\n",
    "\n",
    "titv = calculate_titv(GENOTYPE).todataframe()\n",
    "\n",
    "plt.hist(titv['ti']/titv['tv'])\n",
    "plt.title(\"\")\n",
    "plt.xlabel(\"Ti/Tv\")\n",
    "plt.ylabel(\"# individuals\")\n",
    "plt.show()"
   ]
  },
  {
   "cell_type": "markdown",
   "metadata": {},
   "source": [
    "All the data traversal is performed by SciDB in parallel; then the histogram buckets and counts are imported into R memory for plotting. Note that lazily-evaluated subexpressions can be stored, composed, and reused as R variables. This is often a lot nicer than formulating SQL!\n",
    "\n",
    "We can also calculate Ti/Tv for just one individual, by filtering the input matrix:"
   ]
  },
  {
   "cell_type": "code",
   "execution_count": 37,
   "metadata": {
    "collapsed": false
   },
   "outputs": [
    {
     "data": {
      "text/plain": [
       "sample_id\n",
       "1234         2.275641\n",
       "dtype: float64"
      ]
     },
     "execution_count": 37,
     "metadata": {},
     "output_type": "execute_result"
    }
   ],
   "source": [
    "titv1 = calculate_titv(\n",
    "    sdb.merge(\n",
    "        GENOTYPE, \n",
    "        sdb.afl.filter(SAMPLE['sample'], \"sample = 'HG03209'\")\n",
    "    )\n",
    "    ).todataframe()\n",
    "titv1['ti']/titv1['tv']"
   ]
  },
  {
   "cell_type": "markdown",
   "metadata": {},
   "source": [
    "## Principal component analysis\n",
    "\n",
    "Now let's find principal components of the genotype data and project the individual genomes onto them, revealing the underlying population structure. Begin by selecting common SNPs, because rare variants inherently don't contribute much to the overall variance."
   ]
  },
  {
   "cell_type": "code",
   "execution_count": 38,
   "metadata": {
    "collapsed": false
   },
   "outputs": [],
   "source": [
    "# TBD\n"
   ]
  },
  {
   "cell_type": "markdown",
   "metadata": {},
   "source": [
    "The redimension operation just removes some unneeded attributes and dimensions."
   ]
  },
  {
   "cell_type": "code",
   "execution_count": 39,
   "metadata": {
    "collapsed": true
   },
   "outputs": [],
   "source": [
    "# # Commented in original file \n",
    "# # downsampling for test/dev:\n",
    "# # SNP_COMMON <- scidbeval(bernoulli(SNP_COMMON, 0.1, 42))\n",
    "# # count(SNP_COMMON)"
   ]
  },
  {
   "cell_type": "markdown",
   "metadata": {},
   "source": [
    "Now construct a matrix `G` where `G[i,j]` is the number of copies of the alt allele found in sample `i`, common SNP `j`. The samples are observations, and the SNPs are variables. Reference: doi:10.1371/journal.pgen.0020190\n"
   ]
  },
  {
   "cell_type": "code",
   "execution_count": 326,
   "metadata": {
    "collapsed": false
   },
   "outputs": [],
   "source": [
    "# TBD"
   ]
  }
 ],
 "metadata": {
  "kernelspec": {
   "display_name": "Python 2",
   "language": "python",
   "name": "python2"
  },
  "language_info": {
   "codemirror_mode": {
    "name": "ipython",
    "version": 2
   },
   "file_extension": ".py",
   "mimetype": "text/x-python",
   "name": "python",
   "nbconvert_exporter": "python",
   "pygments_lexer": "ipython2",
   "version": "2.7.6"
  }
 },
 "nbformat": 4,
 "nbformat_minor": 0
}
